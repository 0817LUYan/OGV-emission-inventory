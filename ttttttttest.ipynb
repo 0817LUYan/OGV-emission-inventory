{
 "cells": [
  {
   "cell_type": "code",
   "execution_count": 1,
   "metadata": {},
   "outputs": [],
   "source": [
    "import pandas as pd\n",
    "import geopandas as gpd\n",
    "from shapely.geometry import Point\n"
   ]
  },
  {
   "cell_type": "code",
   "execution_count": 2,
   "metadata": {},
   "outputs": [
    {
     "name": "stderr",
     "output_type": "stream",
     "text": [
      "/var/folders/99/pbr5mvn519lclv42n03yb1hr0000gn/T/ipykernel_84305/548620524.py:13: DtypeWarning: Columns (8) have mixed types. Specify dtype option on import or set low_memory=False.\n",
      "  ais_data = pd.read_csv(file_path)\n"
     ]
    }
   ],
   "source": [
    "# path to the AIS data CSV file \n",
    "file_path = '/Users/macbokpro/Desktop/2025/Port-related emission project/Emission Inventory/coding/vessels at anchorage state/AIS data/AIS_2022_05.csv'\n",
    "anchorage_shapefile = '/Users/macbokpro/Desktop/2025/Port-related emission project/Emission Inventory/coding/vessels at anchorage state/anchorage area/AnchorageAreas.shp'\n",
    "\n",
    "# Vessel characteristics\n",
    "main_engine_power = 8130  # kW\n",
    "aux_engine_power = 740  # kW\n",
    "max_speed = 14.5  # knots\n",
    "ef_main_engine = 14.4  # g/kWh (NOx emission factor for main engine)\n",
    "ef_aux_engine = 10.5  # g/kWh (NOx emission factor for auxiliary engine)\n",
    "\n",
    "# Load the AIS data\n",
    "ais_data = pd.read_csv(file_path)"
   ]
  },
  {
   "cell_type": "code",
   "execution_count": 3,
   "metadata": {},
   "outputs": [],
   "source": [
    "# Filter data for vessel IMO9922249 and the date 2022-05-06\n",
    "vessel_imo = 'IMO9922249'\n",
    "ais_data['Timestamp'] = pd.to_datetime(ais_data['BaseDateTime'])\n",
    "ais_data_filtered = ais_data[(ais_data['IMO'] == vessel_imo) & (ais_data['Timestamp'].dt.date == pd.to_datetime('2022-05-06').date())]\n"
   ]
  },
  {
   "cell_type": "code",
   "execution_count": 5,
   "metadata": {},
   "outputs": [
    {
     "name": "stderr",
     "output_type": "stream",
     "text": [
      "/var/folders/99/pbr5mvn519lclv42n03yb1hr0000gn/T/ipykernel_84305/1816043514.py:9: DeprecationWarning: The 'unary_union' attribute is deprecated, use the 'union_all()' method instead.\n",
      "  ais_gdf['in_anchorage'] = ais_gdf.within(anchorage_areas.unary_union)\n"
     ]
    }
   ],
   "source": [
    "# Load Anchorage area shapefile\n",
    "anchorage_areas = gpd.read_file(anchorage_shapefile)\n",
    "\n",
    "# Convert AIS data to GeoDataFrame for spatial analysis\n",
    "geometry = [Point(xy) for xy in zip(ais_data_filtered['LON'], ais_data_filtered['LAT'])]\n",
    "ais_gdf = gpd.GeoDataFrame(ais_data_filtered, geometry=geometry, crs=anchorage_areas.crs)\n",
    "\n",
    "# Check if the vessel is within the anchorage area\n",
    "ais_gdf['in_anchorage'] = ais_gdf.within(anchorage_areas.unary_union)"
   ]
  },
  {
   "cell_type": "code",
   "execution_count": 6,
   "metadata": {},
   "outputs": [],
   "source": [
    "# Function to classify operational mode\n",
    "def classify_mode(row):\n",
    "    speed = row['SOG']  # Speed Over Ground in AIS data\n",
    "    in_anchorage = row['in_anchorage']\n",
    "    \n",
    "    if speed == 0:\n",
    "        if in_anchorage:\n",
    "            return 'Anchorage Hotelling'\n",
    "        else:\n",
    "            return 'Berth Hotelling'\n",
    "    elif speed < 1 and in_anchorage:\n",
    "        return 'Anchorage Hotelling'\n",
    "    elif speed < 3:\n",
    "        return 'Maneuvering'\n",
    "    else:\n",
    "        return 'Transit'\n",
    "\n",
    "# will refine classification later"
   ]
  },
  {
   "cell_type": "code",
   "execution_count": 7,
   "metadata": {},
   "outputs": [],
   "source": [
    "# Apply classification\n",
    "ais_gdf['Operational Mode'] = ais_gdf.apply(classify_mode, axis=1)"
   ]
  },
  {
   "cell_type": "code",
   "execution_count": 8,
   "metadata": {},
   "outputs": [],
   "source": [
    "# Calculate the duration between consecutive timestamps\n",
    "ais_gdf['Next Timestamp'] = ais_gdf['Timestamp'].shift(-1)\n",
    "ais_gdf['Duration (hours)'] = (ais_gdf['Next Timestamp'] - ais_gdf['Timestamp']).dt.total_seconds() / 3600\n",
    "\n",
    "# Fill NaN for the last row (as there's no next timestamp) with 0\n",
    "ais_gdf['Duration (hours)'] = ais_gdf['Duration (hours)'].fillna(0)"
   ]
  },
  {
   "cell_type": "code",
   "execution_count": 9,
   "metadata": {},
   "outputs": [],
   "source": [
    "# Apply Propeller Law to calculate main engine operating power based on SOG and vessel characteristics\n",
    "ais_gdf['Main Engine Power (kW)'] = ((ais_gdf['SOG'] / max_speed) ** 3) * main_engine_power"
   ]
  },
  {
   "cell_type": "code",
   "execution_count": 10,
   "metadata": {},
   "outputs": [],
   "source": [
    "# Calculate NOx emissions for each mode\n",
    "def calculate_emissions(row):\n",
    "    mode = row['Operational Mode']\n",
    "    duration = row['Duration (hours)']\n",
    "    \n",
    "    if mode == 'Transit':\n",
    "        # Only main engine runs\n",
    "        emissions_main = row['Main Engine Power (kW)'] * duration * ef_main_engine\n",
    "        return emissions_main\n",
    "    \n",
    "    elif mode == 'Maneuvering':\n",
    "        # Both main engine and auxiliary engine run\n",
    "        emissions_main = row['Main Engine Power (kW)'] * duration * ef_main_engine\n",
    "        emissions_aux = aux_engine_power * duration * ef_aux_engine\n",
    "        return emissions_main + emissions_aux\n",
    "    \n",
    "    elif mode in ['Anchorage Hotelling', 'Berth Hotelling']:\n",
    "        # Only auxiliary engine runs\n",
    "        emissions_aux = aux_engine_power * duration * ef_aux_engine\n",
    "        return emissions_aux\n",
    "    \n",
    "    return 0\n"
   ]
  },
  {
   "cell_type": "code",
   "execution_count": 11,
   "metadata": {},
   "outputs": [],
   "source": [
    "# Apply the emissions calculation\n",
    "ais_gdf['NOx Emissions (g)'] = ais_gdf.apply(calculate_emissions, axis=1)"
   ]
  },
  {
   "cell_type": "code",
   "execution_count": 12,
   "metadata": {},
   "outputs": [],
   "source": [
    "# Group by the operational mode and sum the emissions for each mode\n",
    "emissions_by_mode = ais_gdf.groupby('Operational Mode')['NOx Emissions (g)'].sum()\n"
   ]
  },
  {
   "cell_type": "code",
   "execution_count": 14,
   "metadata": {},
   "outputs": [
    {
     "name": "stdout",
     "output_type": "stream",
     "text": [
      "Filtered AIS Data for IMO 9922249 on 2022-05-06 with NOx Emissions:\n",
      "                 Timestamp   SOG        LON       LAT Operational Mode  \\\n",
      "654088 2022-05-06 15:27:23  11.1 -119.49961  34.09286          Transit   \n",
      "654091 2022-05-06 15:28:32  11.2 -119.49543  34.09191          Transit   \n",
      "654093 2022-05-06 15:29:43  11.2 -119.49113  34.09092          Transit   \n",
      "654096 2022-05-06 15:30:52  11.1 -119.48757  34.09011          Transit   \n",
      "654098 2022-05-06 15:31:53  11.2 -119.48337  34.08915          Transit   \n",
      "...                    ...   ...        ...       ...              ...   \n",
      "655068 2022-05-06 23:55:51   0.3 -118.21487  33.71055      Maneuvering   \n",
      "655071 2022-05-06 23:57:07  14.4 -118.21486  33.71056          Transit   \n",
      "655075 2022-05-06 23:58:17   0.5 -118.21487  33.71057      Maneuvering   \n",
      "655078 2022-05-06 23:59:28   0.2 -118.21487  33.71058      Maneuvering   \n",
      "655079 2022-05-06 23:59:37   2.0 -118.21065  33.71169      Maneuvering   \n",
      "\n",
      "        Duration (hours)  Main Engine Power (kW)  NOx Emissions (g)  \n",
      "654088          0.019167             3647.165535        1006.617688  \n",
      "654091          0.019722             3746.628280        1064.042432  \n",
      "654093          0.019167             3746.628280        1034.069405  \n",
      "654096          0.016944             3647.165535         889.908391  \n",
      "654098          0.019722             3746.628280        1064.042432  \n",
      "...                  ...                     ...                ...  \n",
      "655068          0.021111                0.072003         164.055222  \n",
      "655071          0.019444             7962.950484        2229.626136  \n",
      "655075          0.019722                0.333347         153.336337  \n",
      "655078          0.002500                0.021334          19.425768  \n",
      "655079          0.000000               21.334208           0.000000  \n",
      "\n",
      "[406 rows x 8 columns]\n"
     ]
    }
   ],
   "source": [
    "# Display the AIS data with emissions calculated and total emissions by mode\n",
    "print(\"Filtered AIS Data for IMO 9922249 on 2022-05-06 with NOx Emissions:\")\n",
    "print(ais_gdf[['Timestamp', 'SOG', 'LON', 'LAT', 'Operational Mode', 'Duration (hours)', 'Main Engine Power (kW)', 'NOx Emissions (g)']])\n",
    "\n"
   ]
  },
  {
   "cell_type": "code",
   "execution_count": 15,
   "metadata": {},
   "outputs": [
    {
     "name": "stdout",
     "output_type": "stream",
     "text": [
      "\n",
      "Total NOx Emissions by Operational Mode:\n",
      "Operational Mode\n",
      "Berth Hotelling      4187.166667\n",
      "Maneuvering          6769.467876\n",
      "Transit            346423.583690\n",
      "Name: NOx Emissions (g), dtype: float64\n"
     ]
    }
   ],
   "source": [
    "print(\"\\nTotal NOx Emissions by Operational Mode:\")\n",
    "print(emissions_by_mode)"
   ]
  }
 ],
 "metadata": {
  "kernelspec": {
   "display_name": "Python 3",
   "language": "python",
   "name": "python3"
  },
  "language_info": {
   "codemirror_mode": {
    "name": "ipython",
    "version": 3
   },
   "file_extension": ".py",
   "mimetype": "text/x-python",
   "name": "python",
   "nbconvert_exporter": "python",
   "pygments_lexer": "ipython3",
   "version": "3.12.0"
  }
 },
 "nbformat": 4,
 "nbformat_minor": 2
}
